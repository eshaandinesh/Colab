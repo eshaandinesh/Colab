{
  "nbformat": 4,
  "nbformat_minor": 0,
  "metadata": {
    "colab": {
      "provenance": [],
      "gpuType": "T4",
      "authorship_tag": "ABX9TyOxaOA3FWOByZvFPqg5cep5",
      "include_colab_link": true
    },
    "kernelspec": {
      "name": "python3",
      "display_name": "Python 3"
    },
    "language_info": {
      "name": "python"
    },
    "accelerator": "GPU"
  },
  "cells": [
    {
      "cell_type": "markdown",
      "metadata": {
        "id": "view-in-github",
        "colab_type": "text"
      },
      "source": [
        "<a href=\"https://colab.research.google.com/github/eshaandinesh/Colab/blob/main/Join.ipynb\" target=\"_parent\"><img src=\"https://colab.research.google.com/assets/colab-badge.svg\" alt=\"Open In Colab\"/></a>"
      ]
    },
    {
      "cell_type": "code",
      "execution_count": null,
      "metadata": {
        "colab": {
          "base_uri": "https://localhost:8080/"
        },
        "id": "RO8xo2jJtGCC",
        "outputId": "f56c9b3b-6bb9-4ca7-9c70-56798b2269f3"
      },
      "outputs": [
        {
          "output_type": "stream",
          "name": "stdout",
          "text": [
            "Requirement already satisfied: pyspark in /usr/local/lib/python3.10/dist-packages (3.5.0)\n",
            "Requirement already satisfied: py4j==0.10.9.7 in /usr/local/lib/python3.10/dist-packages (from pyspark) (0.10.9.7)\n"
          ]
        }
      ],
      "source": [
        "!pip install pyspark\n",
        "import pyspark\n",
        "from pyspark.sql import SparkSession"
      ]
    },
    {
      "cell_type": "code",
      "source": [
        "from google.colab import files\n",
        "\n",
        "\n",
        "uploaded1 = files.upload()\n",
        "uploaded2 = files.upload()"
      ],
      "metadata": {
        "colab": {
          "base_uri": "https://localhost:8080/",
          "height": 129
        },
        "id": "YBw1fSkx1P1c",
        "outputId": "d53d6435-47a6-411c-87db-1fd12d0e2272"
      },
      "execution_count": null,
      "outputs": [
        {
          "output_type": "display_data",
          "data": {
            "text/plain": [
              "<IPython.core.display.HTML object>"
            ],
            "text/html": [
              "\n",
              "     <input type=\"file\" id=\"files-b23426cc-4432-422d-9147-0af9c251d9ad\" name=\"files[]\" multiple disabled\n",
              "        style=\"border:none\" />\n",
              "     <output id=\"result-b23426cc-4432-422d-9147-0af9c251d9ad\">\n",
              "      Upload widget is only available when the cell has been executed in the\n",
              "      current browser session. Please rerun this cell to enable.\n",
              "      </output>\n",
              "      <script>// Copyright 2017 Google LLC\n",
              "//\n",
              "// Licensed under the Apache License, Version 2.0 (the \"License\");\n",
              "// you may not use this file except in compliance with the License.\n",
              "// You may obtain a copy of the License at\n",
              "//\n",
              "//      http://www.apache.org/licenses/LICENSE-2.0\n",
              "//\n",
              "// Unless required by applicable law or agreed to in writing, software\n",
              "// distributed under the License is distributed on an \"AS IS\" BASIS,\n",
              "// WITHOUT WARRANTIES OR CONDITIONS OF ANY KIND, either express or implied.\n",
              "// See the License for the specific language governing permissions and\n",
              "// limitations under the License.\n",
              "\n",
              "/**\n",
              " * @fileoverview Helpers for google.colab Python module.\n",
              " */\n",
              "(function(scope) {\n",
              "function span(text, styleAttributes = {}) {\n",
              "  const element = document.createElement('span');\n",
              "  element.textContent = text;\n",
              "  for (const key of Object.keys(styleAttributes)) {\n",
              "    element.style[key] = styleAttributes[key];\n",
              "  }\n",
              "  return element;\n",
              "}\n",
              "\n",
              "// Max number of bytes which will be uploaded at a time.\n",
              "const MAX_PAYLOAD_SIZE = 100 * 1024;\n",
              "\n",
              "function _uploadFiles(inputId, outputId) {\n",
              "  const steps = uploadFilesStep(inputId, outputId);\n",
              "  const outputElement = document.getElementById(outputId);\n",
              "  // Cache steps on the outputElement to make it available for the next call\n",
              "  // to uploadFilesContinue from Python.\n",
              "  outputElement.steps = steps;\n",
              "\n",
              "  return _uploadFilesContinue(outputId);\n",
              "}\n",
              "\n",
              "// This is roughly an async generator (not supported in the browser yet),\n",
              "// where there are multiple asynchronous steps and the Python side is going\n",
              "// to poll for completion of each step.\n",
              "// This uses a Promise to block the python side on completion of each step,\n",
              "// then passes the result of the previous step as the input to the next step.\n",
              "function _uploadFilesContinue(outputId) {\n",
              "  const outputElement = document.getElementById(outputId);\n",
              "  const steps = outputElement.steps;\n",
              "\n",
              "  const next = steps.next(outputElement.lastPromiseValue);\n",
              "  return Promise.resolve(next.value.promise).then((value) => {\n",
              "    // Cache the last promise value to make it available to the next\n",
              "    // step of the generator.\n",
              "    outputElement.lastPromiseValue = value;\n",
              "    return next.value.response;\n",
              "  });\n",
              "}\n",
              "\n",
              "/**\n",
              " * Generator function which is called between each async step of the upload\n",
              " * process.\n",
              " * @param {string} inputId Element ID of the input file picker element.\n",
              " * @param {string} outputId Element ID of the output display.\n",
              " * @return {!Iterable<!Object>} Iterable of next steps.\n",
              " */\n",
              "function* uploadFilesStep(inputId, outputId) {\n",
              "  const inputElement = document.getElementById(inputId);\n",
              "  inputElement.disabled = false;\n",
              "\n",
              "  const outputElement = document.getElementById(outputId);\n",
              "  outputElement.innerHTML = '';\n",
              "\n",
              "  const pickedPromise = new Promise((resolve) => {\n",
              "    inputElement.addEventListener('change', (e) => {\n",
              "      resolve(e.target.files);\n",
              "    });\n",
              "  });\n",
              "\n",
              "  const cancel = document.createElement('button');\n",
              "  inputElement.parentElement.appendChild(cancel);\n",
              "  cancel.textContent = 'Cancel upload';\n",
              "  const cancelPromise = new Promise((resolve) => {\n",
              "    cancel.onclick = () => {\n",
              "      resolve(null);\n",
              "    };\n",
              "  });\n",
              "\n",
              "  // Wait for the user to pick the files.\n",
              "  const files = yield {\n",
              "    promise: Promise.race([pickedPromise, cancelPromise]),\n",
              "    response: {\n",
              "      action: 'starting',\n",
              "    }\n",
              "  };\n",
              "\n",
              "  cancel.remove();\n",
              "\n",
              "  // Disable the input element since further picks are not allowed.\n",
              "  inputElement.disabled = true;\n",
              "\n",
              "  if (!files) {\n",
              "    return {\n",
              "      response: {\n",
              "        action: 'complete',\n",
              "      }\n",
              "    };\n",
              "  }\n",
              "\n",
              "  for (const file of files) {\n",
              "    const li = document.createElement('li');\n",
              "    li.append(span(file.name, {fontWeight: 'bold'}));\n",
              "    li.append(span(\n",
              "        `(${file.type || 'n/a'}) - ${file.size} bytes, ` +\n",
              "        `last modified: ${\n",
              "            file.lastModifiedDate ? file.lastModifiedDate.toLocaleDateString() :\n",
              "                                    'n/a'} - `));\n",
              "    const percent = span('0% done');\n",
              "    li.appendChild(percent);\n",
              "\n",
              "    outputElement.appendChild(li);\n",
              "\n",
              "    const fileDataPromise = new Promise((resolve) => {\n",
              "      const reader = new FileReader();\n",
              "      reader.onload = (e) => {\n",
              "        resolve(e.target.result);\n",
              "      };\n",
              "      reader.readAsArrayBuffer(file);\n",
              "    });\n",
              "    // Wait for the data to be ready.\n",
              "    let fileData = yield {\n",
              "      promise: fileDataPromise,\n",
              "      response: {\n",
              "        action: 'continue',\n",
              "      }\n",
              "    };\n",
              "\n",
              "    // Use a chunked sending to avoid message size limits. See b/62115660.\n",
              "    let position = 0;\n",
              "    do {\n",
              "      const length = Math.min(fileData.byteLength - position, MAX_PAYLOAD_SIZE);\n",
              "      const chunk = new Uint8Array(fileData, position, length);\n",
              "      position += length;\n",
              "\n",
              "      const base64 = btoa(String.fromCharCode.apply(null, chunk));\n",
              "      yield {\n",
              "        response: {\n",
              "          action: 'append',\n",
              "          file: file.name,\n",
              "          data: base64,\n",
              "        },\n",
              "      };\n",
              "\n",
              "      let percentDone = fileData.byteLength === 0 ?\n",
              "          100 :\n",
              "          Math.round((position / fileData.byteLength) * 100);\n",
              "      percent.textContent = `${percentDone}% done`;\n",
              "\n",
              "    } while (position < fileData.byteLength);\n",
              "  }\n",
              "\n",
              "  // All done.\n",
              "  yield {\n",
              "    response: {\n",
              "      action: 'complete',\n",
              "    }\n",
              "  };\n",
              "}\n",
              "\n",
              "scope.google = scope.google || {};\n",
              "scope.google.colab = scope.google.colab || {};\n",
              "scope.google.colab._files = {\n",
              "  _uploadFiles,\n",
              "  _uploadFilesContinue,\n",
              "};\n",
              "})(self);\n",
              "</script> "
            ]
          },
          "metadata": {}
        },
        {
          "output_type": "stream",
          "name": "stdout",
          "text": [
            "Saving ABC_1st_half.csv to ABC_1st_half.csv\n"
          ]
        },
        {
          "output_type": "display_data",
          "data": {
            "text/plain": [
              "<IPython.core.display.HTML object>"
            ],
            "text/html": [
              "\n",
              "     <input type=\"file\" id=\"files-d44135ee-780a-4c7e-96ae-394be57ed5d0\" name=\"files[]\" multiple disabled\n",
              "        style=\"border:none\" />\n",
              "     <output id=\"result-d44135ee-780a-4c7e-96ae-394be57ed5d0\">\n",
              "      Upload widget is only available when the cell has been executed in the\n",
              "      current browser session. Please rerun this cell to enable.\n",
              "      </output>\n",
              "      <script>// Copyright 2017 Google LLC\n",
              "//\n",
              "// Licensed under the Apache License, Version 2.0 (the \"License\");\n",
              "// you may not use this file except in compliance with the License.\n",
              "// You may obtain a copy of the License at\n",
              "//\n",
              "//      http://www.apache.org/licenses/LICENSE-2.0\n",
              "//\n",
              "// Unless required by applicable law or agreed to in writing, software\n",
              "// distributed under the License is distributed on an \"AS IS\" BASIS,\n",
              "// WITHOUT WARRANTIES OR CONDITIONS OF ANY KIND, either express or implied.\n",
              "// See the License for the specific language governing permissions and\n",
              "// limitations under the License.\n",
              "\n",
              "/**\n",
              " * @fileoverview Helpers for google.colab Python module.\n",
              " */\n",
              "(function(scope) {\n",
              "function span(text, styleAttributes = {}) {\n",
              "  const element = document.createElement('span');\n",
              "  element.textContent = text;\n",
              "  for (const key of Object.keys(styleAttributes)) {\n",
              "    element.style[key] = styleAttributes[key];\n",
              "  }\n",
              "  return element;\n",
              "}\n",
              "\n",
              "// Max number of bytes which will be uploaded at a time.\n",
              "const MAX_PAYLOAD_SIZE = 100 * 1024;\n",
              "\n",
              "function _uploadFiles(inputId, outputId) {\n",
              "  const steps = uploadFilesStep(inputId, outputId);\n",
              "  const outputElement = document.getElementById(outputId);\n",
              "  // Cache steps on the outputElement to make it available for the next call\n",
              "  // to uploadFilesContinue from Python.\n",
              "  outputElement.steps = steps;\n",
              "\n",
              "  return _uploadFilesContinue(outputId);\n",
              "}\n",
              "\n",
              "// This is roughly an async generator (not supported in the browser yet),\n",
              "// where there are multiple asynchronous steps and the Python side is going\n",
              "// to poll for completion of each step.\n",
              "// This uses a Promise to block the python side on completion of each step,\n",
              "// then passes the result of the previous step as the input to the next step.\n",
              "function _uploadFilesContinue(outputId) {\n",
              "  const outputElement = document.getElementById(outputId);\n",
              "  const steps = outputElement.steps;\n",
              "\n",
              "  const next = steps.next(outputElement.lastPromiseValue);\n",
              "  return Promise.resolve(next.value.promise).then((value) => {\n",
              "    // Cache the last promise value to make it available to the next\n",
              "    // step of the generator.\n",
              "    outputElement.lastPromiseValue = value;\n",
              "    return next.value.response;\n",
              "  });\n",
              "}\n",
              "\n",
              "/**\n",
              " * Generator function which is called between each async step of the upload\n",
              " * process.\n",
              " * @param {string} inputId Element ID of the input file picker element.\n",
              " * @param {string} outputId Element ID of the output display.\n",
              " * @return {!Iterable<!Object>} Iterable of next steps.\n",
              " */\n",
              "function* uploadFilesStep(inputId, outputId) {\n",
              "  const inputElement = document.getElementById(inputId);\n",
              "  inputElement.disabled = false;\n",
              "\n",
              "  const outputElement = document.getElementById(outputId);\n",
              "  outputElement.innerHTML = '';\n",
              "\n",
              "  const pickedPromise = new Promise((resolve) => {\n",
              "    inputElement.addEventListener('change', (e) => {\n",
              "      resolve(e.target.files);\n",
              "    });\n",
              "  });\n",
              "\n",
              "  const cancel = document.createElement('button');\n",
              "  inputElement.parentElement.appendChild(cancel);\n",
              "  cancel.textContent = 'Cancel upload';\n",
              "  const cancelPromise = new Promise((resolve) => {\n",
              "    cancel.onclick = () => {\n",
              "      resolve(null);\n",
              "    };\n",
              "  });\n",
              "\n",
              "  // Wait for the user to pick the files.\n",
              "  const files = yield {\n",
              "    promise: Promise.race([pickedPromise, cancelPromise]),\n",
              "    response: {\n",
              "      action: 'starting',\n",
              "    }\n",
              "  };\n",
              "\n",
              "  cancel.remove();\n",
              "\n",
              "  // Disable the input element since further picks are not allowed.\n",
              "  inputElement.disabled = true;\n",
              "\n",
              "  if (!files) {\n",
              "    return {\n",
              "      response: {\n",
              "        action: 'complete',\n",
              "      }\n",
              "    };\n",
              "  }\n",
              "\n",
              "  for (const file of files) {\n",
              "    const li = document.createElement('li');\n",
              "    li.append(span(file.name, {fontWeight: 'bold'}));\n",
              "    li.append(span(\n",
              "        `(${file.type || 'n/a'}) - ${file.size} bytes, ` +\n",
              "        `last modified: ${\n",
              "            file.lastModifiedDate ? file.lastModifiedDate.toLocaleDateString() :\n",
              "                                    'n/a'} - `));\n",
              "    const percent = span('0% done');\n",
              "    li.appendChild(percent);\n",
              "\n",
              "    outputElement.appendChild(li);\n",
              "\n",
              "    const fileDataPromise = new Promise((resolve) => {\n",
              "      const reader = new FileReader();\n",
              "      reader.onload = (e) => {\n",
              "        resolve(e.target.result);\n",
              "      };\n",
              "      reader.readAsArrayBuffer(file);\n",
              "    });\n",
              "    // Wait for the data to be ready.\n",
              "    let fileData = yield {\n",
              "      promise: fileDataPromise,\n",
              "      response: {\n",
              "        action: 'continue',\n",
              "      }\n",
              "    };\n",
              "\n",
              "    // Use a chunked sending to avoid message size limits. See b/62115660.\n",
              "    let position = 0;\n",
              "    do {\n",
              "      const length = Math.min(fileData.byteLength - position, MAX_PAYLOAD_SIZE);\n",
              "      const chunk = new Uint8Array(fileData, position, length);\n",
              "      position += length;\n",
              "\n",
              "      const base64 = btoa(String.fromCharCode.apply(null, chunk));\n",
              "      yield {\n",
              "        response: {\n",
              "          action: 'append',\n",
              "          file: file.name,\n",
              "          data: base64,\n",
              "        },\n",
              "      };\n",
              "\n",
              "      let percentDone = fileData.byteLength === 0 ?\n",
              "          100 :\n",
              "          Math.round((position / fileData.byteLength) * 100);\n",
              "      percent.textContent = `${percentDone}% done`;\n",
              "\n",
              "    } while (position < fileData.byteLength);\n",
              "  }\n",
              "\n",
              "  // All done.\n",
              "  yield {\n",
              "    response: {\n",
              "      action: 'complete',\n",
              "    }\n",
              "  };\n",
              "}\n",
              "\n",
              "scope.google = scope.google || {};\n",
              "scope.google.colab = scope.google.colab || {};\n",
              "scope.google.colab._files = {\n",
              "  _uploadFiles,\n",
              "  _uploadFilesContinue,\n",
              "};\n",
              "})(self);\n",
              "</script> "
            ]
          },
          "metadata": {}
        },
        {
          "output_type": "stream",
          "name": "stdout",
          "text": [
            "Saving ABC_2nd_half.csv to ABC_2nd_half.csv\n"
          ]
        }
      ]
    },
    {
      "cell_type": "code",
      "source": [
        "spark = SparkSession.builder.appName(\"Join\").getOrCreate()\n",
        "\n",
        "df1 = spark.read.format(\"csv\").option(\"header\", \"true\").option(\"inferSchema\", \"true\").load(\"ABC_1st_half.csv\")\n",
        "df2 = spark.read.format(\"csv\").option(\"header\", \"true\").option(\"inferSchema\", \"true\").load(\"ABC_2nd_half.csv\")\n",
        "\n",
        "df1.show()\n",
        "df2.show()"
      ],
      "metadata": {
        "colab": {
          "base_uri": "https://localhost:8080/"
        },
        "id": "7kxy2rFl1Xsz",
        "outputId": "ef09aae5-392e-4439-8ff6-3b79bd4942a1"
      },
      "execution_count": null,
      "outputs": [
        {
          "output_type": "stream",
          "name": "stdout",
          "text": [
            "+-------+---+-----------+--------+-------------------+-------+-------+-------+---------+\n",
            "|Cust_id|age|        job| marital|          education|default|housing|   loan|  contact|\n",
            "+-------+---+-----------+--------+-------------------+-------+-------+-------+---------+\n",
            "|      1| 56|  housemaid| married|           basic.4y|     no|     no|     no|telephone|\n",
            "|      2| 57|   services| married|        high.school|unknown|     no|     no|telephone|\n",
            "|      4| 40|     admin.| married|           basic.6y|     no|     no|     no|telephone|\n",
            "|      5| 56|   services| married|        high.school|     no|     no|    yes|telephone|\n",
            "|      8| 41|blue-collar| married|            unknown|unknown|     no|     no|telephone|\n",
            "|      9| 24| technician|  single|professional.course|     no|    yes|     no|telephone|\n",
            "|     11| 41|blue-collar| married|            unknown|unknown|     no|     no|telephone|\n",
            "|     12| 25|   services|  single|        high.school|     no|    yes|     no|telephone|\n",
            "|     13| 29|blue-collar|  single|        high.school|     no|     no|    yes|telephone|\n",
            "|     14| 57|  housemaid|divorced|           basic.4y|     no|    yes|     no|telephone|\n",
            "|     18| 46|blue-collar| married|           basic.6y|unknown|    yes|    yes|telephone|\n",
            "|     19| 50|blue-collar| married|           basic.9y|     no|    yes|    yes|telephone|\n",
            "|     20| 39| management|  single|           basic.9y|unknown|     no|     no|telephone|\n",
            "|     22| 55|blue-collar| married|           basic.4y|unknown|    yes|     no|telephone|\n",
            "|     23| 55|    retired|  single|        high.school|     no|    yes|     no|telephone|\n",
            "|     25| 37|     admin.| married|        high.school|     no|    yes|     no|telephone|\n",
            "|     26| 35| technician| married|  university.degree|     no|     no|    yes|telephone|\n",
            "|     27| 59| technician| married|            unknown|     no|    yes|     no|telephone|\n",
            "|     29| 54| technician|  single|  university.degree|unknown|     no|     no|telephone|\n",
            "|     30| 55|    unknown| married|  university.degree|unknown|unknown|unknown|telephone|\n",
            "+-------+---+-----------+--------+-------------------+-------+-------+-------+---------+\n",
            "only showing top 20 rows\n",
            "\n",
            "+-------+-----+-----------+--------+--------+-----+--------+-----------+------------+--------------+-------------+---------+-----------+---+\n",
            "|Cust_id|month|day_of_week|duration|campaign|pdays|previous|   poutcome|emp.var.rate|cons.price.idx|cons.conf.idx|euribor3m|nr.employed|  y|\n",
            "+-------+-----+-----------+--------+--------+-----+--------+-----------+------------+--------------+-------------+---------+-----------+---+\n",
            "|      1|  may|        mon|     261|       1|  999|       0|nonexistent|         1.1|        93.994|        -36.4|    4.857|       5191| no|\n",
            "|      3|  may|        mon|     226|       1|  999|       0|nonexistent|         1.1|        93.994|        -36.4|    4.857|       5191| no|\n",
            "|      4|  may|        mon|     151|       1|  999|       0|nonexistent|         1.1|        93.994|        -36.4|    4.857|       5191| no|\n",
            "|      5|  may|        mon|     307|       1|  999|       0|nonexistent|         1.1|        93.994|        -36.4|    4.857|       5191| no|\n",
            "|      6|  may|        mon|     198|       1|  999|       0|nonexistent|         1.1|        93.994|        -36.4|    4.857|       5191| no|\n",
            "|      7|  may|        mon|     139|       1|  999|       0|nonexistent|         1.1|        93.994|        -36.4|    4.857|       5191| no|\n",
            "|      8|  may|        mon|     217|       1|  999|       0|nonexistent|         1.1|        93.994|        -36.4|    4.857|       5191| no|\n",
            "|     10|  may|        mon|      50|       1|  999|       0|nonexistent|         1.1|        93.994|        -36.4|    4.857|       5191| no|\n",
            "|     11|  may|        mon|      55|       1|  999|       0|nonexistent|         1.1|        93.994|        -36.4|    4.857|       5191| no|\n",
            "|     12|  may|        mon|     222|       1|  999|       0|nonexistent|         1.1|        93.994|        -36.4|    4.857|       5191| no|\n",
            "|     15|  may|        mon|     146|       1|  999|       0|nonexistent|         1.1|        93.994|        -36.4|    4.857|       5191| no|\n",
            "|     16|  may|        mon|     174|       1|  999|       0|nonexistent|         1.1|        93.994|        -36.4|    4.857|       5191| no|\n",
            "|     17|  may|        mon|     312|       1|  999|       0|nonexistent|         1.1|        93.994|        -36.4|    4.857|       5191| no|\n",
            "|     18|  may|        mon|     440|       1|  999|       0|nonexistent|         1.1|        93.994|        -36.4|    4.857|       5191| no|\n",
            "|     21|  may|        mon|      38|       1|  999|       0|nonexistent|         1.1|        93.994|        -36.4|    4.857|       5191| no|\n",
            "|     22|  may|        mon|     262|       1|  999|       0|nonexistent|         1.1|        93.994|        -36.4|    4.857|       5191| no|\n",
            "|     23|  may|        mon|     342|       1|  999|       0|nonexistent|         1.1|        93.994|        -36.4|    4.857|       5191| no|\n",
            "|     24|  may|        mon|     181|       1|  999|       0|nonexistent|         1.1|        93.994|        -36.4|    4.857|       5191| no|\n",
            "|     25|  may|        mon|     172|       1|  999|       0|nonexistent|         1.1|        93.994|        -36.4|    4.857|       5191| no|\n",
            "|     26|  may|        mon|      99|       1|  999|       0|nonexistent|         1.1|        93.994|        -36.4|    4.857|       5191| no|\n",
            "+-------+-----+-----------+--------+--------+-----+--------+-----------+------------+--------------+-------------+---------+-----------+---+\n",
            "only showing top 20 rows\n",
            "\n"
          ]
        }
      ]
    },
    {
      "cell_type": "code",
      "source": [
        "inner_join_df = df1.join(df2,\"Cust_id\",'inner')\n",
        "inner_join_df.show()"
      ],
      "metadata": {
        "colab": {
          "base_uri": "https://localhost:8080/"
        },
        "id": "sHUzH4uZ_A0K",
        "outputId": "3cc5be02-a789-4612-9a11-fc3a840ee7ae"
      },
      "execution_count": null,
      "outputs": [
        {
          "output_type": "stream",
          "name": "stdout",
          "text": [
            "+-------+---+-----------+--------+-----------------+-------+-------+-------+---------+-----+-----------+--------+--------+-----+--------+-----------+------------+--------------+-------------+---------+-----------+---+\n",
            "|Cust_id|age|        job| marital|        education|default|housing|   loan|  contact|month|day_of_week|duration|campaign|pdays|previous|   poutcome|emp.var.rate|cons.price.idx|cons.conf.idx|euribor3m|nr.employed|  y|\n",
            "+-------+---+-----------+--------+-----------------+-------+-------+-------+---------+-----+-----------+--------+--------+-----+--------+-----------+------------+--------------+-------------+---------+-----------+---+\n",
            "|      1| 56|  housemaid| married|         basic.4y|     no|     no|     no|telephone|  may|        mon|     261|       1|  999|       0|nonexistent|         1.1|        93.994|        -36.4|    4.857|       5191| no|\n",
            "|      4| 40|     admin.| married|         basic.6y|     no|     no|     no|telephone|  may|        mon|     151|       1|  999|       0|nonexistent|         1.1|        93.994|        -36.4|    4.857|       5191| no|\n",
            "|      5| 56|   services| married|      high.school|     no|     no|    yes|telephone|  may|        mon|     307|       1|  999|       0|nonexistent|         1.1|        93.994|        -36.4|    4.857|       5191| no|\n",
            "|      8| 41|blue-collar| married|          unknown|unknown|     no|     no|telephone|  may|        mon|     217|       1|  999|       0|nonexistent|         1.1|        93.994|        -36.4|    4.857|       5191| no|\n",
            "|     11| 41|blue-collar| married|          unknown|unknown|     no|     no|telephone|  may|        mon|      55|       1|  999|       0|nonexistent|         1.1|        93.994|        -36.4|    4.857|       5191| no|\n",
            "|     12| 25|   services|  single|      high.school|     no|    yes|     no|telephone|  may|        mon|     222|       1|  999|       0|nonexistent|         1.1|        93.994|        -36.4|    4.857|       5191| no|\n",
            "|     18| 46|blue-collar| married|         basic.6y|unknown|    yes|    yes|telephone|  may|        mon|     440|       1|  999|       0|nonexistent|         1.1|        93.994|        -36.4|    4.857|       5191| no|\n",
            "|     22| 55|blue-collar| married|         basic.4y|unknown|    yes|     no|telephone|  may|        mon|     262|       1|  999|       0|nonexistent|         1.1|        93.994|        -36.4|    4.857|       5191| no|\n",
            "|     23| 55|    retired|  single|      high.school|     no|    yes|     no|telephone|  may|        mon|     342|       1|  999|       0|nonexistent|         1.1|        93.994|        -36.4|    4.857|       5191| no|\n",
            "|     25| 37|     admin.| married|      high.school|     no|    yes|     no|telephone|  may|        mon|     172|       1|  999|       0|nonexistent|         1.1|        93.994|        -36.4|    4.857|       5191| no|\n",
            "|     26| 35| technician| married|university.degree|     no|     no|    yes|telephone|  may|        mon|      99|       1|  999|       0|nonexistent|         1.1|        93.994|        -36.4|    4.857|       5191| no|\n",
            "|     27| 59| technician| married|          unknown|     no|    yes|     no|telephone|  may|        mon|      93|       1|  999|       0|nonexistent|         1.1|        93.994|        -36.4|    4.857|       5191| no|\n",
            "|     29| 54| technician|  single|university.degree|unknown|     no|     no|telephone|  may|        mon|     255|       2|  999|       0|nonexistent|         1.1|        93.994|        -36.4|    4.857|       5191| no|\n",
            "|     30| 55|    unknown| married|university.degree|unknown|unknown|unknown|telephone|  may|        mon|     362|       1|  999|       0|nonexistent|         1.1|        93.994|        -36.4|    4.857|       5191| no|\n",
            "|     31| 46|     admin.| married|          unknown|     no|     no|     no|telephone|  may|        mon|     348|       1|  999|       0|nonexistent|         1.1|        93.994|        -36.4|    4.857|       5191| no|\n",
            "|     33| 49|blue-collar| married|          unknown|     no|     no|     no|telephone|  may|        mon|      73|       1|  999|       0|nonexistent|         1.1|        93.994|        -36.4|    4.857|       5191| no|\n",
            "|     34| 54| management| married|         basic.4y|unknown|    yes|     no|telephone|  may|        mon|     230|       1|  999|       0|nonexistent|         1.1|        93.994|        -36.4|    4.857|       5191| no|\n",
            "|     35| 54|blue-collar|divorced|         basic.4y|     no|     no|     no|telephone|  may|        mon|     208|       1|  999|       0|nonexistent|         1.1|        93.994|        -36.4|    4.857|       5191| no|\n",
            "|     37| 34|   services| married|      high.school|     no|     no|     no|telephone|  may|        mon|     365|       1|  999|       0|nonexistent|         1.1|        93.994|        -36.4|    4.857|       5191| no|\n",
            "|     38| 52| technician| married|         basic.9y|     no|    yes|     no|telephone|  may|        mon|    1666|       1|  999|       0|nonexistent|         1.1|        93.994|        -36.4|    4.857|       5191| no|\n",
            "+-------+---+-----------+--------+-----------------+-------+-------+-------+---------+-----+-----------+--------+--------+-----+--------+-----------+------------+--------------+-------------+---------+-----------+---+\n",
            "only showing top 20 rows\n",
            "\n"
          ]
        }
      ]
    },
    {
      "cell_type": "code",
      "source": [
        "left_join_df = df1.join(df2,\"Cust_id\",'left')\n",
        "left_join_df.show()"
      ],
      "metadata": {
        "colab": {
          "base_uri": "https://localhost:8080/"
        },
        "id": "3UK2s5Y8_jQ3",
        "outputId": "40ad94e0-17e5-4610-c9eb-e33d61b14ebe"
      },
      "execution_count": null,
      "outputs": [
        {
          "output_type": "stream",
          "name": "stdout",
          "text": [
            "+-------+---+-----------+--------+-------------------+-------+-------+-------+---------+-----+-----------+--------+--------+-----+--------+-----------+------------+--------------+-------------+---------+-----------+----+\n",
            "|Cust_id|age|        job| marital|          education|default|housing|   loan|  contact|month|day_of_week|duration|campaign|pdays|previous|   poutcome|emp.var.rate|cons.price.idx|cons.conf.idx|euribor3m|nr.employed|   y|\n",
            "+-------+---+-----------+--------+-------------------+-------+-------+-------+---------+-----+-----------+--------+--------+-----+--------+-----------+------------+--------------+-------------+---------+-----------+----+\n",
            "|      1| 56|  housemaid| married|           basic.4y|     no|     no|     no|telephone|  may|        mon|     261|       1|  999|       0|nonexistent|         1.1|        93.994|        -36.4|    4.857|       5191|  no|\n",
            "|      2| 57|   services| married|        high.school|unknown|     no|     no|telephone| NULL|       NULL|    NULL|    NULL| NULL|    NULL|       NULL|        NULL|          NULL|         NULL|     NULL|       NULL|NULL|\n",
            "|      4| 40|     admin.| married|           basic.6y|     no|     no|     no|telephone|  may|        mon|     151|       1|  999|       0|nonexistent|         1.1|        93.994|        -36.4|    4.857|       5191|  no|\n",
            "|      5| 56|   services| married|        high.school|     no|     no|    yes|telephone|  may|        mon|     307|       1|  999|       0|nonexistent|         1.1|        93.994|        -36.4|    4.857|       5191|  no|\n",
            "|      8| 41|blue-collar| married|            unknown|unknown|     no|     no|telephone|  may|        mon|     217|       1|  999|       0|nonexistent|         1.1|        93.994|        -36.4|    4.857|       5191|  no|\n",
            "|      9| 24| technician|  single|professional.course|     no|    yes|     no|telephone| NULL|       NULL|    NULL|    NULL| NULL|    NULL|       NULL|        NULL|          NULL|         NULL|     NULL|       NULL|NULL|\n",
            "|     11| 41|blue-collar| married|            unknown|unknown|     no|     no|telephone|  may|        mon|      55|       1|  999|       0|nonexistent|         1.1|        93.994|        -36.4|    4.857|       5191|  no|\n",
            "|     12| 25|   services|  single|        high.school|     no|    yes|     no|telephone|  may|        mon|     222|       1|  999|       0|nonexistent|         1.1|        93.994|        -36.4|    4.857|       5191|  no|\n",
            "|     13| 29|blue-collar|  single|        high.school|     no|     no|    yes|telephone| NULL|       NULL|    NULL|    NULL| NULL|    NULL|       NULL|        NULL|          NULL|         NULL|     NULL|       NULL|NULL|\n",
            "|     14| 57|  housemaid|divorced|           basic.4y|     no|    yes|     no|telephone| NULL|       NULL|    NULL|    NULL| NULL|    NULL|       NULL|        NULL|          NULL|         NULL|     NULL|       NULL|NULL|\n",
            "|     18| 46|blue-collar| married|           basic.6y|unknown|    yes|    yes|telephone|  may|        mon|     440|       1|  999|       0|nonexistent|         1.1|        93.994|        -36.4|    4.857|       5191|  no|\n",
            "|     19| 50|blue-collar| married|           basic.9y|     no|    yes|    yes|telephone| NULL|       NULL|    NULL|    NULL| NULL|    NULL|       NULL|        NULL|          NULL|         NULL|     NULL|       NULL|NULL|\n",
            "|     20| 39| management|  single|           basic.9y|unknown|     no|     no|telephone| NULL|       NULL|    NULL|    NULL| NULL|    NULL|       NULL|        NULL|          NULL|         NULL|     NULL|       NULL|NULL|\n",
            "|     22| 55|blue-collar| married|           basic.4y|unknown|    yes|     no|telephone|  may|        mon|     262|       1|  999|       0|nonexistent|         1.1|        93.994|        -36.4|    4.857|       5191|  no|\n",
            "|     23| 55|    retired|  single|        high.school|     no|    yes|     no|telephone|  may|        mon|     342|       1|  999|       0|nonexistent|         1.1|        93.994|        -36.4|    4.857|       5191|  no|\n",
            "|     25| 37|     admin.| married|        high.school|     no|    yes|     no|telephone|  may|        mon|     172|       1|  999|       0|nonexistent|         1.1|        93.994|        -36.4|    4.857|       5191|  no|\n",
            "|     26| 35| technician| married|  university.degree|     no|     no|    yes|telephone|  may|        mon|      99|       1|  999|       0|nonexistent|         1.1|        93.994|        -36.4|    4.857|       5191|  no|\n",
            "|     27| 59| technician| married|            unknown|     no|    yes|     no|telephone|  may|        mon|      93|       1|  999|       0|nonexistent|         1.1|        93.994|        -36.4|    4.857|       5191|  no|\n",
            "|     29| 54| technician|  single|  university.degree|unknown|     no|     no|telephone|  may|        mon|     255|       2|  999|       0|nonexistent|         1.1|        93.994|        -36.4|    4.857|       5191|  no|\n",
            "|     30| 55|    unknown| married|  university.degree|unknown|unknown|unknown|telephone|  may|        mon|     362|       1|  999|       0|nonexistent|         1.1|        93.994|        -36.4|    4.857|       5191|  no|\n",
            "+-------+---+-----------+--------+-------------------+-------+-------+-------+---------+-----+-----------+--------+--------+-----+--------+-----------+------------+--------------+-------------+---------+-----------+----+\n",
            "only showing top 20 rows\n",
            "\n"
          ]
        }
      ]
    },
    {
      "cell_type": "code",
      "source": [
        "right_join_df = df1.join(df2,\"Cust_id\",'right')\n",
        "right_join_df.show()"
      ],
      "metadata": {
        "colab": {
          "base_uri": "https://localhost:8080/"
        },
        "id": "grIhh3G_ALWb",
        "outputId": "17b48b9f-51fd-44e2-ceb9-e97646cd1e14"
      },
      "execution_count": null,
      "outputs": [
        {
          "output_type": "stream",
          "name": "stdout",
          "text": [
            "+-------+----+-----------+-------+-----------------+-------+-------+----+---------+-----+-----------+--------+--------+-----+--------+-----------+------------+--------------+-------------+---------+-----------+---+\n",
            "|Cust_id| age|        job|marital|        education|default|housing|loan|  contact|month|day_of_week|duration|campaign|pdays|previous|   poutcome|emp.var.rate|cons.price.idx|cons.conf.idx|euribor3m|nr.employed|  y|\n",
            "+-------+----+-----------+-------+-----------------+-------+-------+----+---------+-----+-----------+--------+--------+-----+--------+-----------+------------+--------------+-------------+---------+-----------+---+\n",
            "|      1|  56|  housemaid|married|         basic.4y|     no|     no|  no|telephone|  may|        mon|     261|       1|  999|       0|nonexistent|         1.1|        93.994|        -36.4|    4.857|       5191| no|\n",
            "|      3|NULL|       NULL|   NULL|             NULL|   NULL|   NULL|NULL|     NULL|  may|        mon|     226|       1|  999|       0|nonexistent|         1.1|        93.994|        -36.4|    4.857|       5191| no|\n",
            "|      4|  40|     admin.|married|         basic.6y|     no|     no|  no|telephone|  may|        mon|     151|       1|  999|       0|nonexistent|         1.1|        93.994|        -36.4|    4.857|       5191| no|\n",
            "|      5|  56|   services|married|      high.school|     no|     no| yes|telephone|  may|        mon|     307|       1|  999|       0|nonexistent|         1.1|        93.994|        -36.4|    4.857|       5191| no|\n",
            "|      6|NULL|       NULL|   NULL|             NULL|   NULL|   NULL|NULL|     NULL|  may|        mon|     198|       1|  999|       0|nonexistent|         1.1|        93.994|        -36.4|    4.857|       5191| no|\n",
            "|      7|NULL|       NULL|   NULL|             NULL|   NULL|   NULL|NULL|     NULL|  may|        mon|     139|       1|  999|       0|nonexistent|         1.1|        93.994|        -36.4|    4.857|       5191| no|\n",
            "|      8|  41|blue-collar|married|          unknown|unknown|     no|  no|telephone|  may|        mon|     217|       1|  999|       0|nonexistent|         1.1|        93.994|        -36.4|    4.857|       5191| no|\n",
            "|     10|NULL|       NULL|   NULL|             NULL|   NULL|   NULL|NULL|     NULL|  may|        mon|      50|       1|  999|       0|nonexistent|         1.1|        93.994|        -36.4|    4.857|       5191| no|\n",
            "|     11|  41|blue-collar|married|          unknown|unknown|     no|  no|telephone|  may|        mon|      55|       1|  999|       0|nonexistent|         1.1|        93.994|        -36.4|    4.857|       5191| no|\n",
            "|     12|  25|   services| single|      high.school|     no|    yes|  no|telephone|  may|        mon|     222|       1|  999|       0|nonexistent|         1.1|        93.994|        -36.4|    4.857|       5191| no|\n",
            "|     15|NULL|       NULL|   NULL|             NULL|   NULL|   NULL|NULL|     NULL|  may|        mon|     146|       1|  999|       0|nonexistent|         1.1|        93.994|        -36.4|    4.857|       5191| no|\n",
            "|     16|NULL|       NULL|   NULL|             NULL|   NULL|   NULL|NULL|     NULL|  may|        mon|     174|       1|  999|       0|nonexistent|         1.1|        93.994|        -36.4|    4.857|       5191| no|\n",
            "|     17|NULL|       NULL|   NULL|             NULL|   NULL|   NULL|NULL|     NULL|  may|        mon|     312|       1|  999|       0|nonexistent|         1.1|        93.994|        -36.4|    4.857|       5191| no|\n",
            "|     18|  46|blue-collar|married|         basic.6y|unknown|    yes| yes|telephone|  may|        mon|     440|       1|  999|       0|nonexistent|         1.1|        93.994|        -36.4|    4.857|       5191| no|\n",
            "|     21|NULL|       NULL|   NULL|             NULL|   NULL|   NULL|NULL|     NULL|  may|        mon|      38|       1|  999|       0|nonexistent|         1.1|        93.994|        -36.4|    4.857|       5191| no|\n",
            "|     22|  55|blue-collar|married|         basic.4y|unknown|    yes|  no|telephone|  may|        mon|     262|       1|  999|       0|nonexistent|         1.1|        93.994|        -36.4|    4.857|       5191| no|\n",
            "|     23|  55|    retired| single|      high.school|     no|    yes|  no|telephone|  may|        mon|     342|       1|  999|       0|nonexistent|         1.1|        93.994|        -36.4|    4.857|       5191| no|\n",
            "|     24|NULL|       NULL|   NULL|             NULL|   NULL|   NULL|NULL|     NULL|  may|        mon|     181|       1|  999|       0|nonexistent|         1.1|        93.994|        -36.4|    4.857|       5191| no|\n",
            "|     25|  37|     admin.|married|      high.school|     no|    yes|  no|telephone|  may|        mon|     172|       1|  999|       0|nonexistent|         1.1|        93.994|        -36.4|    4.857|       5191| no|\n",
            "|     26|  35| technician|married|university.degree|     no|     no| yes|telephone|  may|        mon|      99|       1|  999|       0|nonexistent|         1.1|        93.994|        -36.4|    4.857|       5191| no|\n",
            "+-------+----+-----------+-------+-----------------+-------+-------+----+---------+-----+-----------+--------+--------+-----+--------+-----------+------------+--------------+-------------+---------+-----------+---+\n",
            "only showing top 20 rows\n",
            "\n"
          ]
        }
      ]
    },
    {
      "cell_type": "code",
      "source": [
        "full_outer_join_df = df1.join(df2,\"Cust_id\",'outer')\n",
        "full_outer_join_df.show()"
      ],
      "metadata": {
        "colab": {
          "base_uri": "https://localhost:8080/"
        },
        "id": "pNqcnNo2AVkW",
        "outputId": "5ea77728-9802-4aa9-d6e2-18901970bf62"
      },
      "execution_count": null,
      "outputs": [
        {
          "output_type": "stream",
          "name": "stdout",
          "text": [
            "+-------+----+-----------+--------+-------------------+-------+-------+----+---------+-----+-----------+--------+--------+-----+--------+-----------+------------+--------------+-------------+---------+-----------+----+\n",
            "|Cust_id| age|        job| marital|          education|default|housing|loan|  contact|month|day_of_week|duration|campaign|pdays|previous|   poutcome|emp.var.rate|cons.price.idx|cons.conf.idx|euribor3m|nr.employed|   y|\n",
            "+-------+----+-----------+--------+-------------------+-------+-------+----+---------+-----+-----------+--------+--------+-----+--------+-----------+------------+--------------+-------------+---------+-----------+----+\n",
            "|      1|  56|  housemaid| married|           basic.4y|     no|     no|  no|telephone|  may|        mon|     261|       1|  999|       0|nonexistent|         1.1|        93.994|        -36.4|    4.857|       5191|  no|\n",
            "|      3|NULL|       NULL|    NULL|               NULL|   NULL|   NULL|NULL|     NULL|  may|        mon|     226|       1|  999|       0|nonexistent|         1.1|        93.994|        -36.4|    4.857|       5191|  no|\n",
            "|      5|  56|   services| married|        high.school|     no|     no| yes|telephone|  may|        mon|     307|       1|  999|       0|nonexistent|         1.1|        93.994|        -36.4|    4.857|       5191|  no|\n",
            "|      6|NULL|       NULL|    NULL|               NULL|   NULL|   NULL|NULL|     NULL|  may|        mon|     198|       1|  999|       0|nonexistent|         1.1|        93.994|        -36.4|    4.857|       5191|  no|\n",
            "|      9|  24| technician|  single|professional.course|     no|    yes|  no|telephone| NULL|       NULL|    NULL|    NULL| NULL|    NULL|       NULL|        NULL|          NULL|         NULL|     NULL|       NULL|NULL|\n",
            "|     12|  25|   services|  single|        high.school|     no|    yes|  no|telephone|  may|        mon|     222|       1|  999|       0|nonexistent|         1.1|        93.994|        -36.4|    4.857|       5191|  no|\n",
            "|     13|  29|blue-collar|  single|        high.school|     no|     no| yes|telephone| NULL|       NULL|    NULL|    NULL| NULL|    NULL|       NULL|        NULL|          NULL|         NULL|     NULL|       NULL|NULL|\n",
            "|     15|NULL|       NULL|    NULL|               NULL|   NULL|   NULL|NULL|     NULL|  may|        mon|     146|       1|  999|       0|nonexistent|         1.1|        93.994|        -36.4|    4.857|       5191|  no|\n",
            "|     16|NULL|       NULL|    NULL|               NULL|   NULL|   NULL|NULL|     NULL|  may|        mon|     174|       1|  999|       0|nonexistent|         1.1|        93.994|        -36.4|    4.857|       5191|  no|\n",
            "|     17|NULL|       NULL|    NULL|               NULL|   NULL|   NULL|NULL|     NULL|  may|        mon|     312|       1|  999|       0|nonexistent|         1.1|        93.994|        -36.4|    4.857|       5191|  no|\n",
            "|     19|  50|blue-collar| married|           basic.9y|     no|    yes| yes|telephone| NULL|       NULL|    NULL|    NULL| NULL|    NULL|       NULL|        NULL|          NULL|         NULL|     NULL|       NULL|NULL|\n",
            "|     20|  39| management|  single|           basic.9y|unknown|     no|  no|telephone| NULL|       NULL|    NULL|    NULL| NULL|    NULL|       NULL|        NULL|          NULL|         NULL|     NULL|       NULL|NULL|\n",
            "|     22|  55|blue-collar| married|           basic.4y|unknown|    yes|  no|telephone|  may|        mon|     262|       1|  999|       0|nonexistent|         1.1|        93.994|        -36.4|    4.857|       5191|  no|\n",
            "|     26|  35| technician| married|  university.degree|     no|     no| yes|telephone|  may|        mon|      99|       1|  999|       0|nonexistent|         1.1|        93.994|        -36.4|    4.857|       5191|  no|\n",
            "|     27|  59| technician| married|            unknown|     no|    yes|  no|telephone|  may|        mon|      93|       1|  999|       0|nonexistent|         1.1|        93.994|        -36.4|    4.857|       5191|  no|\n",
            "|     28|NULL|       NULL|    NULL|               NULL|   NULL|   NULL|NULL|     NULL|  may|        mon|     233|       1|  999|       0|nonexistent|         1.1|        93.994|        -36.4|    4.857|       5191|  no|\n",
            "|     31|  46|     admin.| married|            unknown|     no|     no|  no|telephone|  may|        mon|     348|       1|  999|       0|nonexistent|         1.1|        93.994|        -36.4|    4.857|       5191|  no|\n",
            "|     34|  54| management| married|           basic.4y|unknown|    yes|  no|telephone|  may|        mon|     230|       1|  999|       0|nonexistent|         1.1|        93.994|        -36.4|    4.857|       5191|  no|\n",
            "|     35|  54|blue-collar|divorced|           basic.4y|     no|     no|  no|telephone|  may|        mon|     208|       1|  999|       0|nonexistent|         1.1|        93.994|        -36.4|    4.857|       5191|  no|\n",
            "|     37|  34|   services| married|        high.school|     no|     no|  no|telephone|  may|        mon|     365|       1|  999|       0|nonexistent|         1.1|        93.994|        -36.4|    4.857|       5191|  no|\n",
            "+-------+----+-----------+--------+-------------------+-------+-------+----+---------+-----+-----------+--------+--------+-----+--------+-----------+------------+--------------+-------------+---------+-----------+----+\n",
            "only showing top 20 rows\n",
            "\n"
          ]
        }
      ]
    },
    {
      "cell_type": "code",
      "source": [
        "cross_join_df = df1.crossJoin(df2)\n",
        "cross_join_df.show()"
      ],
      "metadata": {
        "colab": {
          "base_uri": "https://localhost:8080/"
        },
        "id": "NSBYK035Akj0",
        "outputId": "2972602c-ae0c-4b6b-b763-d5324f5fa640"
      },
      "execution_count": null,
      "outputs": [
        {
          "output_type": "stream",
          "name": "stdout",
          "text": [
            "+-------+---+-----------+--------+-------------------+-------+-------+-------+---------+-------+-----+-----------+--------+--------+-----+--------+-----------+------------+--------------+-------------+---------+-----------+---+\n",
            "|Cust_id|age|        job| marital|          education|default|housing|   loan|  contact|Cust_id|month|day_of_week|duration|campaign|pdays|previous|   poutcome|emp.var.rate|cons.price.idx|cons.conf.idx|euribor3m|nr.employed|  y|\n",
            "+-------+---+-----------+--------+-------------------+-------+-------+-------+---------+-------+-----+-----------+--------+--------+-----+--------+-----------+------------+--------------+-------------+---------+-----------+---+\n",
            "|      1| 56|  housemaid| married|           basic.4y|     no|     no|     no|telephone|      1|  may|        mon|     261|       1|  999|       0|nonexistent|         1.1|        93.994|        -36.4|    4.857|       5191| no|\n",
            "|      2| 57|   services| married|        high.school|unknown|     no|     no|telephone|      1|  may|        mon|     261|       1|  999|       0|nonexistent|         1.1|        93.994|        -36.4|    4.857|       5191| no|\n",
            "|      4| 40|     admin.| married|           basic.6y|     no|     no|     no|telephone|      1|  may|        mon|     261|       1|  999|       0|nonexistent|         1.1|        93.994|        -36.4|    4.857|       5191| no|\n",
            "|      5| 56|   services| married|        high.school|     no|     no|    yes|telephone|      1|  may|        mon|     261|       1|  999|       0|nonexistent|         1.1|        93.994|        -36.4|    4.857|       5191| no|\n",
            "|      8| 41|blue-collar| married|            unknown|unknown|     no|     no|telephone|      1|  may|        mon|     261|       1|  999|       0|nonexistent|         1.1|        93.994|        -36.4|    4.857|       5191| no|\n",
            "|      9| 24| technician|  single|professional.course|     no|    yes|     no|telephone|      1|  may|        mon|     261|       1|  999|       0|nonexistent|         1.1|        93.994|        -36.4|    4.857|       5191| no|\n",
            "|     11| 41|blue-collar| married|            unknown|unknown|     no|     no|telephone|      1|  may|        mon|     261|       1|  999|       0|nonexistent|         1.1|        93.994|        -36.4|    4.857|       5191| no|\n",
            "|     12| 25|   services|  single|        high.school|     no|    yes|     no|telephone|      1|  may|        mon|     261|       1|  999|       0|nonexistent|         1.1|        93.994|        -36.4|    4.857|       5191| no|\n",
            "|     13| 29|blue-collar|  single|        high.school|     no|     no|    yes|telephone|      1|  may|        mon|     261|       1|  999|       0|nonexistent|         1.1|        93.994|        -36.4|    4.857|       5191| no|\n",
            "|     14| 57|  housemaid|divorced|           basic.4y|     no|    yes|     no|telephone|      1|  may|        mon|     261|       1|  999|       0|nonexistent|         1.1|        93.994|        -36.4|    4.857|       5191| no|\n",
            "|     18| 46|blue-collar| married|           basic.6y|unknown|    yes|    yes|telephone|      1|  may|        mon|     261|       1|  999|       0|nonexistent|         1.1|        93.994|        -36.4|    4.857|       5191| no|\n",
            "|     19| 50|blue-collar| married|           basic.9y|     no|    yes|    yes|telephone|      1|  may|        mon|     261|       1|  999|       0|nonexistent|         1.1|        93.994|        -36.4|    4.857|       5191| no|\n",
            "|     20| 39| management|  single|           basic.9y|unknown|     no|     no|telephone|      1|  may|        mon|     261|       1|  999|       0|nonexistent|         1.1|        93.994|        -36.4|    4.857|       5191| no|\n",
            "|     22| 55|blue-collar| married|           basic.4y|unknown|    yes|     no|telephone|      1|  may|        mon|     261|       1|  999|       0|nonexistent|         1.1|        93.994|        -36.4|    4.857|       5191| no|\n",
            "|     23| 55|    retired|  single|        high.school|     no|    yes|     no|telephone|      1|  may|        mon|     261|       1|  999|       0|nonexistent|         1.1|        93.994|        -36.4|    4.857|       5191| no|\n",
            "|     25| 37|     admin.| married|        high.school|     no|    yes|     no|telephone|      1|  may|        mon|     261|       1|  999|       0|nonexistent|         1.1|        93.994|        -36.4|    4.857|       5191| no|\n",
            "|     26| 35| technician| married|  university.degree|     no|     no|    yes|telephone|      1|  may|        mon|     261|       1|  999|       0|nonexistent|         1.1|        93.994|        -36.4|    4.857|       5191| no|\n",
            "|     27| 59| technician| married|            unknown|     no|    yes|     no|telephone|      1|  may|        mon|     261|       1|  999|       0|nonexistent|         1.1|        93.994|        -36.4|    4.857|       5191| no|\n",
            "|     29| 54| technician|  single|  university.degree|unknown|     no|     no|telephone|      1|  may|        mon|     261|       1|  999|       0|nonexistent|         1.1|        93.994|        -36.4|    4.857|       5191| no|\n",
            "|     30| 55|    unknown| married|  university.degree|unknown|unknown|unknown|telephone|      1|  may|        mon|     261|       1|  999|       0|nonexistent|         1.1|        93.994|        -36.4|    4.857|       5191| no|\n",
            "+-------+---+-----------+--------+-------------------+-------+-------+-------+---------+-------+-----+-----------+--------+--------+-----+--------+-----------+------------+--------------+-------------+---------+-----------+---+\n",
            "only showing top 20 rows\n",
            "\n"
          ]
        }
      ]
    },
    {
      "cell_type": "code",
      "source": [
        "avg_age = full_outer_join_df.groupBy('job').avg('age')\n",
        "avg_age.show()"
      ],
      "metadata": {
        "colab": {
          "base_uri": "https://localhost:8080/"
        },
        "id": "MSx9z-eJBCtK",
        "outputId": "d95896e9-46c1-458e-d5a5-9c5624e723f9"
      },
      "execution_count": null,
      "outputs": [
        {
          "output_type": "stream",
          "name": "stdout",
          "text": [
            "+-------------+------------------+\n",
            "|          job|          avg(age)|\n",
            "+-------------+------------------+\n",
            "|   management| 42.36285909712722|\n",
            "|      retired|62.031995346131474|\n",
            "|      unknown| 45.53495440729483|\n",
            "|         NULL|              NULL|\n",
            "|self-employed|             39.95|\n",
            "|      student| 25.89485714285714|\n",
            "|  blue-collar| 39.55674448767834|\n",
            "| entrepreneur|41.723214285714285|\n",
            "|       admin.| 38.18529891565109|\n",
            "|   technician|38.504227859368044|\n",
            "|     services|37.928139183055976|\n",
            "|    housemaid|              45.5|\n",
            "|   unemployed| 39.74333662388944|\n",
            "+-------------+------------------+\n",
            "\n"
          ]
        }
      ]
    },
    {
      "cell_type": "code",
      "source": [
        "avg_age2 = full_outer_join_df.groupBy('job','marital').avg('age')\n",
        "avg_age2.show()"
      ],
      "metadata": {
        "colab": {
          "base_uri": "https://localhost:8080/"
        },
        "id": "edTI-CmxBzvY",
        "outputId": "4880f024-b5ca-427e-ee02-9d6a846bdb6c"
      },
      "execution_count": null,
      "outputs": [
        {
          "output_type": "stream",
          "name": "stdout",
          "text": [
            "+------------+--------+------------------+\n",
            "|         job| marital|          avg(age)|\n",
            "+------------+--------+------------------+\n",
            "|entrepreneur| married|42.527544351073765|\n",
            "|     unknown| married| 48.27038626609442|\n",
            "|     student| unknown|              30.0|\n",
            "|  unemployed|  single|33.254980079681275|\n",
            "|      admin.|  single|33.645935483870964|\n",
            "| blue-collar|divorced| 42.84065934065934|\n",
            "|   housemaid| married|45.745173745173744|\n",
            "|     unknown|  single|36.608108108108105|\n",
            "|     unknown| unknown|40.333333333333336|\n",
            "|     unknown|divorced| 50.92307692307692|\n",
            "|        NULL|    NULL|              NULL|\n",
            "|  technician|divorced| 42.05297157622739|\n",
            "|entrepreneur|divorced| 44.10614525139665|\n",
            "|     student|  single|25.555825242718445|\n",
            "|  unemployed| unknown|              47.2|\n",
            "|  unemployed| married| 41.69668246445497|\n",
            "|  management| unknown|              51.0|\n",
            "|     student| married|30.634146341463413|\n",
            "|      admin.| married| 40.29874333587205|\n",
            "|  management| married| 43.75634274772619|\n",
            "+------------+--------+------------------+\n",
            "only showing top 20 rows\n",
            "\n"
          ]
        }
      ]
    },
    {
      "cell_type": "code",
      "source": [
        "from pyspark.sql.functions import max\n",
        "max_dur = full_outer_join_df.agg(max('duration'))\n",
        "max_dur.show()"
      ],
      "metadata": {
        "colab": {
          "base_uri": "https://localhost:8080/"
        },
        "id": "BagLZQq8CMEg",
        "outputId": "63ce9264-cbeb-4f23-ba63-e983ca6199dd"
      },
      "execution_count": null,
      "outputs": [
        {
          "output_type": "stream",
          "name": "stdout",
          "text": [
            "+-------------+\n",
            "|max(duration)|\n",
            "+-------------+\n",
            "|         4918|\n",
            "+-------------+\n",
            "\n"
          ]
        }
      ]
    },
    {
      "cell_type": "code",
      "source": [
        "from pyspark.sql.functions import min\n",
        "min_dur = full_outer_join_df.agg(min('duration'))\n",
        "min_dur.show()"
      ],
      "metadata": {
        "colab": {
          "base_uri": "https://localhost:8080/"
        },
        "id": "E7J0ueBNDQ9C",
        "outputId": "1ea27157-7e23-4ee5-a9aa-6899a5773882"
      },
      "execution_count": null,
      "outputs": [
        {
          "output_type": "stream",
          "name": "stdout",
          "text": [
            "+-------------+\n",
            "|min(duration)|\n",
            "+-------------+\n",
            "|            0|\n",
            "+-------------+\n",
            "\n"
          ]
        }
      ]
    },
    {
      "cell_type": "code",
      "source": [
        "piv_df = full_outer_join_df.groupBy('job').pivot('marital').avg('age')\n",
        "piv_df.show()"
      ],
      "metadata": {
        "colab": {
          "base_uri": "https://localhost:8080/"
        },
        "id": "ODzxhThGDqv1",
        "outputId": "c5dba283-21df-4f2e-8587-84ca4a9fe175"
      },
      "execution_count": null,
      "outputs": [
        {
          "output_type": "stream",
          "name": "stdout",
          "text": [
            "+-------------+----+------------------+------------------+------------------+------------------+\n",
            "|          job|null|          divorced|           married|            single|           unknown|\n",
            "+-------------+----+------------------+------------------+------------------+------------------+\n",
            "|   management|NULL|46.190332326283986| 43.75634274772619| 33.97205588822355|              51.0|\n",
            "|      retired|NULL| 64.45689655172414|61.836606441476825| 55.68817204301075|              61.0|\n",
            "|      unknown|NULL| 50.92307692307692| 48.27038626609442|36.608108108108105|40.333333333333336|\n",
            "|         NULL|NULL|              NULL|              NULL|              NULL|              NULL|\n",
            "|self-employed|NULL| 42.75187969924812| 42.23366555924695| 33.53298153034301|              39.4|\n",
            "|      student|NULL|34.888888888888886|30.634146341463413|25.555825242718445|              30.0|\n",
            "|  blue-collar|NULL| 42.84065934065934| 40.89139865370232|33.342465753424655| 41.57142857142857|\n",
            "| entrepreneur|NULL| 44.10614525139665|42.527544351073765| 35.49261083743843|              34.0|\n",
            "|       admin.|NULL|       43.28203125| 40.29874333587205|33.645935483870964|35.785714285714285|\n",
            "|   technician|NULL| 42.05297157622739| 40.75579176887435| 33.71916010498688|             32.75|\n",
            "|     services|NULL| 42.08458646616541| 39.87521815008726| 32.04225352112676|              40.0|\n",
            "|    housemaid|NULL| 49.62111801242236|45.745173745173744| 38.46218487394958|              40.0|\n",
            "|   unemployed|NULL|42.604838709677416| 41.69668246445497|33.254980079681275|              47.2|\n",
            "+-------------+----+------------------+------------------+------------------+------------------+\n",
            "\n"
          ]
        }
      ]
    }
  ]
}