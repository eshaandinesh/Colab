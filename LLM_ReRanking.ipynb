{
  "nbformat": 4,
  "nbformat_minor": 0,
  "metadata": {
    "colab": {
      "provenance": [],
      "include_colab_link": true
    },
    "kernelspec": {
      "name": "python3",
      "display_name": "Python 3"
    },
    "language_info": {
      "name": "python"
    }
  },
  "cells": [
    {
      "cell_type": "markdown",
      "metadata": {
        "id": "view-in-github",
        "colab_type": "text"
      },
      "source": [
        "<a href=\"https://colab.research.google.com/github/eshaandinesh/Colab/blob/main/LLM_ReRanking.ipynb\" target=\"_parent\"><img src=\"https://colab.research.google.com/assets/colab-badge.svg\" alt=\"Open In Colab\"/></a>"
      ]
    },
    {
      "cell_type": "code",
      "execution_count": null,
      "metadata": {
        "id": "qgazQINoKA-u"
      },
      "outputs": [],
      "source": [
        "import cohere as co\n",
        "API_KEY = \"\"\n",
        "co = cohere.Client(API_KEY)\n",
        "MODEL_NAME = \"rerank-english-02\" # another option is rerank-multilingual-02\n",
        "\n",
        "query = \"film gross\""
      ]
    },
    {
      "cell_type": "code",
      "source": [
        "results = co.rerank(query=query, model=MODEL_NAME, documents=texts, top_n=3)\n"
      ],
      "metadata": {
        "id": "-wT4WM45KGqj"
      },
      "execution_count": null,
      "outputs": []
    },
    {
      "cell_type": "code",
      "source": [
        "results = co.rerank(query=query, model=MODEL_NAME, documents=texts, top_n=3) # Change top_n to change the number of results returned. If top_n is not passed, all results will be returned.\n",
        "for idx, r in enumerate(results):\n",
        "  print(f\"Document Rank: {idx + 1}, Document Index: {r.index}\")\n",
        "  print(f\"Document: {r.document['text']}\")\n",
        "  print(f\"Relevance Score: {r.relevance_score:.2f}\")\n",
        "  print(\"\\n\")"
      ],
      "metadata": {
        "id": "YXOe7isSKLgU"
      },
      "execution_count": null,
      "outputs": []
    },
    {
      "cell_type": "code",
      "source": [],
      "metadata": {
        "id": "TTejsm3OKOl9"
      },
      "execution_count": null,
      "outputs": []
    }
  ]
}